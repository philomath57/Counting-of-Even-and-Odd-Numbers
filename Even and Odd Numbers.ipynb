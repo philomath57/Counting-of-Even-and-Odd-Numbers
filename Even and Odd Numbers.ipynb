{
 "cells": [
  {
   "cell_type": "code",
   "execution_count": 6,
   "id": "74da9ed1",
   "metadata": {},
   "outputs": [
    {
     "name": "stdout",
     "output_type": "stream",
     "text": [
      "Total number of even numbers is  4\n",
      "Total number of odd numbers is  5\n"
     ]
    }
   ],
   "source": [
    "count_even = 0\n",
    "count_odd = 0\n",
    "num = (1,2,3,4,5,6,7,8,9)\n",
    "for i in num:\n",
    "    if i%2 == 0:\n",
    "        count_even += 1\n",
    "    else:\n",
    "        count_odd += 1\n",
    "print('Total number of even numbers is ',count_even)\n",
    "print('Total number of odd numbers is ',count_odd)"
   ]
  },
  {
   "cell_type": "code",
   "execution_count": null,
   "id": "35226acf",
   "metadata": {},
   "outputs": [],
   "source": []
  }
 ],
 "metadata": {
  "kernelspec": {
   "display_name": "Python 3 (ipykernel)",
   "language": "python",
   "name": "python3"
  },
  "language_info": {
   "codemirror_mode": {
    "name": "ipython",
    "version": 3
   },
   "file_extension": ".py",
   "mimetype": "text/x-python",
   "name": "python",
   "nbconvert_exporter": "python",
   "pygments_lexer": "ipython3",
   "version": "3.9.7"
  }
 },
 "nbformat": 4,
 "nbformat_minor": 5
}
